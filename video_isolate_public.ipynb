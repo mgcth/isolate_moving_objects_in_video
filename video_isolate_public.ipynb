{
 "cells": [
  {
   "cell_type": "markdown",
   "metadata": {},
   "source": [
    "# Isolate moving objects in video\n",
    "Short code for removing moving objects in video (or removing static objects in video)."
   ]
  },
  {
   "cell_type": "markdown",
   "metadata": {},
   "source": [
    "We first load some Julia packages and specify the video file path."
   ]
  },
  {
   "cell_type": "code",
   "execution_count": null,
   "metadata": {},
   "outputs": [],
   "source": [
    "using Plots, Images, VideoIO, LinearAlgebra, LowRankApprox;"
   ]
  },
  {
   "cell_type": "code",
   "execution_count": null,
   "metadata": {},
   "outputs": [],
   "source": [
    "path = \"\"\n",
    "file = path * \"\";"
   ]
  },
  {
   "cell_type": "markdown",
   "metadata": {},
   "source": [
    "Load the video file and define height, width, fps and number of frames."
   ]
  },
  {
   "cell_type": "code",
   "execution_count": null,
   "metadata": {},
   "outputs": [],
   "source": [
    "f = VideoIO.openvideo(file)\n",
    "h = f.height\n",
    "w = f.width\n",
    "fps = f.stream_info.stream.avg_frame_rate.num\n",
    "n = f.stream_info.stream.nb_frames-1\n",
    "RGBn = 3;"
   ]
  },
  {
   "cell_type": "markdown",
   "metadata": {},
   "source": [
    "Define a function to read the video file, frame by frame, and a function where the SVD is performed, and finally run them."
   ]
  },
  {
   "cell_type": "code",
   "execution_count": null,
   "metadata": {},
   "outputs": [],
   "source": [
    "imframe(f) = Float32.(channelview(read(f)))\n",
    "\n",
    "function todata(f)\n",
    "    imdata = Array{Float32}(undef, RGBn, h, w, n)\n",
    "    for k in 1:n # dont need while !eof(f), because we know n\n",
    "        imdata[:, :, :, k] = imframe(f)\n",
    "    end\n",
    "    \n",
    "    imdata\n",
    "end\n",
    "\n",
    "function lowrank(vid, n)\n",
    "    out = []\n",
    "    for i in 1:RGBn\n",
    "        v = reshape(vid[i, :, :, :], :, n)\n",
    "        u, s, vt = psvd(v, rtol=1e-6) # randomised alg\n",
    "        #u, s, vt = svd(v); # standard alg\n",
    "        \n",
    "        push!(out, (u=u, s=s, vt=vt))\n",
    "    end\n",
    "    \n",
    "    out\n",
    "end\n",
    "\n",
    "vid = todata(f)#[:, :, :, 1:5:end]\n",
    "#n = size(vid, 4)\n",
    "svddata = lowrank(vid, n);"
   ]
  },
  {
   "cell_type": "markdown",
   "metadata": {},
   "source": [
    "Recreate the video in the low-dimensional space, removing all non-static components, such as moving objects and scale pixels between 0 and 1."
   ]
  },
  {
   "cell_type": "code",
   "execution_count": null,
   "metadata": {},
   "outputs": [],
   "source": [
    "function filter()\n",
    "    vb = Array{N0f8}(undef, RGBn, h, w, n)\n",
    "    vf = Array{N0f8}(undef, RGBn, h, w, n)\n",
    "    \n",
    "    ns = 1 # number of singular values\n",
    "    for i = 1:RGBn\n",
    "        vb_ = reshape(svddata[i].u[:, 1:ns] * diagm(svddata[i].s[1:ns]) * svddata[i].vt[:, 1:ns]', h, w, n)\n",
    "\n",
    "        # get only non-static component, i.e. high-dimensional component\n",
    "        vf_ = vid[i, :, :, :] - vb_; \n",
    "\n",
    "        # scale to [0, 1]\n",
    "        vb[i, :, :, :] = N0f8.(scaleminmax(0, 1).(vb_))\n",
    "        vf[i, :, :, :] = N0f8.(scaleminmax(0, 1).(vf_));\n",
    "    end\n",
    "    \n",
    "    vb, vf, N0f8.(vid)\n",
    "end\n",
    "\n",
    "vb, vf, vo = filter();"
   ]
  },
  {
   "cell_type": "markdown",
   "metadata": {},
   "source": [
    "Prepare video to be exported."
   ]
  },
  {
   "cell_type": "code",
   "execution_count": null,
   "metadata": {},
   "outputs": [],
   "source": [
    "imgstacko = [colorview(RGB, vo[:, :, :, i]) for i in 1:n]\n",
    "imgstackb = [colorview(RGB, vb[:, :, :, i]) for i in 1:n]\n",
    "imgstackf = [colorview(RGB, vf[:, :, :, i]) for i in 1:n];"
   ]
  },
  {
   "cell_type": "markdown",
   "metadata": {},
   "source": [
    "Export the three video files. As of 2020-08-22 something is wrong with the export, see https://github.com/JuliaIO/VideoIO.jl/pull/179. Using handbrake on the lossless file works."
   ]
  },
  {
   "cell_type": "code",
   "execution_count": null,
   "metadata": {},
   "outputs": [],
   "source": [
    "props = [:priv_data => (\"crf\"=>\"0\",\"preset\"=>\"medium\")]\n",
    "encodevideo(path * \"_o.mp4\",\n",
    "    imgstacko, framerate=fps, AVCodecContextProperties=props, codec_name = \"libx264rgb\");\n",
    "encodevideo(path * \"_b.mp4\",\n",
    "    imgstackb, framerate=fps, AVCodecContextProperties=props, codec_name = \"libx264rgb\");\n",
    "encodevideo(path * \"_f.mp4\",\n",
    "    imgstackf, framerate=fps, AVCodecContextProperties=props, codec_name = \"libx264rgb\");"
   ]
  }
 ],
 "metadata": {
  "kernelspec": {
   "display_name": "Julia 1.5.0",
   "language": "julia",
   "name": "julia-1.5"
  },
  "language_info": {
   "file_extension": ".jl",
   "mimetype": "application/julia",
   "name": "julia",
   "version": "1.5.0"
  }
 },
 "nbformat": 4,
 "nbformat_minor": 2
}
